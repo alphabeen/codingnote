{
  "cells": [
    {
      "cell_type": "markdown",
      "metadata": {
        "id": "view-in-github",
        "colab_type": "text"
      },
      "source": [
        "<a href=\"https://colab.research.google.com/github/alphabeen/codingnote/blob/main/cats_and_dogs.ipynb\" target=\"_parent\"><img src=\"https://colab.research.google.com/assets/colab-badge.svg\" alt=\"Open In Colab\"/></a>"
      ]
    },
    {
      "cell_type": "markdown",
      "metadata": {
        "id": "UUYwYyz2Aqd7"
      },
      "source": [
        "#Data Load"
      ]
    },
    {
      "cell_type": "code",
      "execution_count": 2,
      "metadata": {
        "id": "BvhCzX0GAp7v"
      },
      "outputs": [],
      "source": [
        "import tensorflow_datasets as tfds\n",
        "import tensorflow as tf\n",
        "\n",
        "dataset_name = 'cats_vs_dogs'\n",
        "train_dataset=tfds.load(name=dataset_name,split='train[:80%]',shuffle_files=True)\n",
        "valid_dataset=tfds.load(name=dataset_name,split='train[80%:]',shuffle_files=True)"
      ]
    },
    {
      "cell_type": "code",
      "execution_count": 3,
      "metadata": {
        "colab": {
          "base_uri": "https://localhost:8080/"
        },
        "id": "4CbRKzyXCBAu",
        "outputId": "1c778291-7d61-49ec-a195-128dc0d2d4c5"
      },
      "outputs": [
        {
          "output_type": "execute_result",
          "data": {
            "text/plain": [
              "<PrefetchDataset element_spec={'image': TensorSpec(shape=(None, None, 3), dtype=tf.uint8, name=None), 'image/filename': TensorSpec(shape=(), dtype=tf.string, name=None), 'label': TensorSpec(shape=(), dtype=tf.int64, name=None)}>"
            ]
          },
          "metadata": {},
          "execution_count": 3
        }
      ],
      "source": [
        "train_dataset"
      ]
    },
    {
      "cell_type": "markdown",
      "metadata": {
        "id": "HlXoXGzpBEay"
      },
      "source": [
        "#Preprocessing"
      ]
    },
    {
      "cell_type": "code",
      "execution_count": 4,
      "metadata": {
        "id": "l_ZTiwuaBELx"
      },
      "outputs": [],
      "source": [
        "def preprocess(data):\n",
        "    x = data['image']\n",
        "    y = data['label']\n",
        "    x = x / 255\n",
        "    x = tf.image.resize(x, size=(224, 224))\n",
        "\n",
        "    return x, y"
      ]
    },
    {
      "cell_type": "markdown",
      "metadata": {
        "id": "kdYdkxVebdDM"
      },
      "source": [
        "#Modeling"
      ]
    },
    {
      "cell_type": "code",
      "execution_count": 5,
      "metadata": {
        "id": "2ChQk5Ajbtf7"
      },
      "outputs": [],
      "source": [
        "from tensorflow.keras.layers import Dense, Conv2D, MaxPooling2D, Flatten, Dropout\n",
        "from tensorflow.keras.models import Sequential\n",
        "from tensorflow.keras.callbacks import ModelCheckpoint\n",
        "\n",
        "train_data = train_dataset.map(preprocess).batch(32)\n",
        "valid_data = valid_dataset.map(preprocess).batch(32)\n",
        "model = Sequential([\n",
        "        Conv2D(32, (3, 3), input_shape=(224, 224, 3), activation='relu'),\n",
        "        MaxPooling2D(2, 2),\n",
        "        Conv2D(64, (3, 3), activation='relu'),\n",
        "        MaxPooling2D(2, 2),\n",
        "        Conv2D(32, (3, 3), activation='relu'),\n",
        "        Conv2D(32, (3, 3), activation='relu'),\n",
        "        MaxPooling2D(2, 2),        \n",
        "        Conv2D(32, (3, 3), activation='relu'),        \n",
        "        MaxPooling2D(2, 2),\n",
        "        Flatten(),\n",
        "        Dropout(0.5),\n",
        "        Dense(128, activation='relu'),\n",
        "        Dense(64, activation='relu'),\n",
        "        Dense(2, activation='softmax'),\n",
        "])"
      ]
    },
    {
      "cell_type": "code",
      "execution_count": 6,
      "metadata": {
        "colab": {
          "base_uri": "https://localhost:8080/"
        },
        "id": "RE6jqsQYcCZH",
        "outputId": "170eae6f-72a1-4107-c869-9f0781841820"
      },
      "outputs": [
        {
          "output_type": "stream",
          "name": "stdout",
          "text": [
            "Model: \"sequential\"\n",
            "_________________________________________________________________\n",
            " Layer (type)                Output Shape              Param #   \n",
            "=================================================================\n",
            " conv2d (Conv2D)             (None, 222, 222, 32)      896       \n",
            "                                                                 \n",
            " max_pooling2d (MaxPooling2D  (None, 111, 111, 32)     0         \n",
            " )                                                               \n",
            "                                                                 \n",
            " conv2d_1 (Conv2D)           (None, 109, 109, 64)      18496     \n",
            "                                                                 \n",
            " max_pooling2d_1 (MaxPooling  (None, 54, 54, 64)       0         \n",
            " 2D)                                                             \n",
            "                                                                 \n",
            " conv2d_2 (Conv2D)           (None, 52, 52, 32)        18464     \n",
            "                                                                 \n",
            " conv2d_3 (Conv2D)           (None, 50, 50, 32)        9248      \n",
            "                                                                 \n",
            " max_pooling2d_2 (MaxPooling  (None, 25, 25, 32)       0         \n",
            " 2D)                                                             \n",
            "                                                                 \n",
            " conv2d_4 (Conv2D)           (None, 23, 23, 32)        9248      \n",
            "                                                                 \n",
            " max_pooling2d_3 (MaxPooling  (None, 11, 11, 32)       0         \n",
            " 2D)                                                             \n",
            "                                                                 \n",
            " flatten (Flatten)           (None, 3872)              0         \n",
            "                                                                 \n",
            " dropout (Dropout)           (None, 3872)              0         \n",
            "                                                                 \n",
            " dense (Dense)               (None, 128)               495744    \n",
            "                                                                 \n",
            " dense_1 (Dense)             (None, 64)                8256      \n",
            "                                                                 \n",
            " dense_2 (Dense)             (None, 2)                 130       \n",
            "                                                                 \n",
            "=================================================================\n",
            "Total params: 560,482\n",
            "Trainable params: 560,482\n",
            "Non-trainable params: 0\n",
            "_________________________________________________________________\n"
          ]
        }
      ],
      "source": [
        "model.summary()"
      ]
    },
    {
      "cell_type": "markdown",
      "metadata": {
        "id": "YxWFU3uDe02-"
      },
      "source": [
        "#Training"
      ]
    },
    {
      "cell_type": "code",
      "execution_count": 7,
      "metadata": {
        "colab": {
          "base_uri": "https://localhost:8080/"
        },
        "id": "VjQxkQUscGdt",
        "outputId": "52f80bba-f345-4f41-b202-8fd907327c91"
      },
      "outputs": [
        {
          "output_type": "stream",
          "name": "stdout",
          "text": [
            "Epoch 1/3\n",
            "582/582 [==============================] - ETA: 0s - loss: 0.6663 - acc: 0.5870\n",
            "Epoch 1: val_loss improved from inf to 0.58827, saving model to my_checkpoint.ckpt\n",
            "582/582 [==============================] - 52s 83ms/step - loss: 0.6663 - acc: 0.5870 - val_loss: 0.5883 - val_acc: 0.6920\n",
            "Epoch 2/3\n",
            "582/582 [==============================] - ETA: 0s - loss: 0.5708 - acc: 0.7012\n",
            "Epoch 2: val_loss improved from 0.58827 to 0.50141, saving model to my_checkpoint.ckpt\n",
            "582/582 [==============================] - 45s 76ms/step - loss: 0.5708 - acc: 0.7012 - val_loss: 0.5014 - val_acc: 0.7571\n",
            "Epoch 3/3\n",
            "581/582 [============================>.] - ETA: 0s - loss: 0.4944 - acc: 0.7617\n",
            "Epoch 3: val_loss improved from 0.50141 to 0.47725, saving model to my_checkpoint.ckpt\n",
            "582/582 [==============================] - 47s 81ms/step - loss: 0.4943 - acc: 0.7618 - val_loss: 0.4772 - val_acc: 0.7736\n"
          ]
        },
        {
          "output_type": "execute_result",
          "data": {
            "text/plain": [
              "<tensorflow.python.training.tracking.util.CheckpointLoadStatus at 0x7f3f6e3b1e10>"
            ]
          },
          "metadata": {},
          "execution_count": 7
        }
      ],
      "source": [
        "model.compile(optimizer='adam', loss='sparse_categorical_crossentropy', metrics=['acc'])\n",
        "checkpoint_path = \"my_checkpoint.ckpt\"\n",
        "checkpoint = ModelCheckpoint(filepath=checkpoint_path, \n",
        "                            save_weights_only=True, \n",
        "                            save_best_only=True, \n",
        "                            monitor='val_loss', \n",
        "                            verbose=1)\n",
        "model.fit(train_data,\n",
        "          validation_data=(valid_data),\n",
        "          epochs=3,\n",
        "          callbacks=[checkpoint],\n",
        "          )\n",
        "model.load_weights(checkpoint_path)"
      ]
    },
    {
      "cell_type": "markdown",
      "metadata": {
        "id": "5Cx-4Rdfe3In"
      },
      "source": [
        "#Evaluate"
      ]
    },
    {
      "cell_type": "code",
      "execution_count": 8,
      "metadata": {
        "colab": {
          "base_uri": "https://localhost:8080/"
        },
        "id": "hYjkYZ-TcVNL",
        "outputId": "57048456-2a45-4c75-ee57-268ef4fa41c0"
      },
      "outputs": [
        {
          "output_type": "stream",
          "name": "stdout",
          "text": [
            "146/146 - 7s - loss: 0.4772 - acc: 0.7736 - 7s/epoch - 50ms/step\n",
            "test loss: 0.477247, test accuracy: 77.364576\n"
          ]
        }
      ],
      "source": [
        "loss, acc = model.evaluate(valid_data, verbose=2)\n",
        "print(\"test loss: %f, test accuracy: %f\" %(loss, acc*100))"
      ]
    },
    {
      "cell_type": "markdown",
      "metadata": {
        "id": "N9cHk6Rje7JY"
      },
      "source": [
        "#Pretrained_Model"
      ]
    },
    {
      "cell_type": "code",
      "execution_count": 16,
      "metadata": {
        "id": "jGsayzgEbh4D"
      },
      "outputs": [],
      "source": [
        "from tensorflow.keras.applications import VGG16\n",
        "\n",
        "\n",
        "transfer_model = VGG16(weights='imagenet', include_top=False, input_shape=(224, 224, 3))\n",
        "transfer_model.trainable=False\n",
        "\n",
        "\n",
        "VGG_model = Sequential([\n",
        "        transfer_model,\n",
        "        Flatten(),\n",
        "        Dropout(0.5),\n",
        "        Dense(512,activation='relu'),\n",
        "        Dense(128,activation='relu'),\n",
        "        tf.keras.layers.Dense(2, activation='softmax')\n",
        "])"
      ]
    },
    {
      "cell_type": "code",
      "execution_count": 13,
      "metadata": {
        "colab": {
          "base_uri": "https://localhost:8080/"
        },
        "id": "BxwTyQuIeqUZ",
        "outputId": "6b1eca5f-23bf-47bd-891e-f56f10322fb8"
      },
      "outputs": [
        {
          "output_type": "stream",
          "name": "stdout",
          "text": [
            "Model: \"sequential_2\"\n",
            "_________________________________________________________________\n",
            " Layer (type)                Output Shape              Param #   \n",
            "=================================================================\n",
            " vgg16 (Functional)          (None, 7, 7, 512)         14714688  \n",
            "                                                                 \n",
            " flatten_2 (Flatten)         (None, 25088)             0         \n",
            "                                                                 \n",
            " dropout_2 (Dropout)         (None, 25088)             0         \n",
            "                                                                 \n",
            " dense_6 (Dense)             (None, 512)               12845568  \n",
            "                                                                 \n",
            " dense_7 (Dense)             (None, 128)               65664     \n",
            "                                                                 \n",
            " dense_8 (Dense)             (None, 2)                 258       \n",
            "                                                                 \n",
            "=================================================================\n",
            "Total params: 27,626,178\n",
            "Trainable params: 12,911,490\n",
            "Non-trainable params: 14,714,688\n",
            "_________________________________________________________________\n"
          ]
        }
      ],
      "source": [
        "VGG_model.summary()"
      ]
    },
    {
      "cell_type": "code",
      "execution_count": 14,
      "metadata": {
        "colab": {
          "base_uri": "https://localhost:8080/"
        },
        "id": "6OY9qJDPesxT",
        "outputId": "a4b39cfe-ed57-4014-ca64-2ee321a422d3"
      },
      "outputs": [
        {
          "output_type": "stream",
          "name": "stdout",
          "text": [
            "Epoch 1/3\n",
            "582/582 [==============================] - ETA: 0s - loss: 0.2793 - acc: 0.8867\n",
            "Epoch 1: val_loss improved from inf to 0.16973, saving model to my_checkpoint_VGG.ckpt\n",
            "582/582 [==============================] - 124s 212ms/step - loss: 0.2793 - acc: 0.8867 - val_loss: 0.1697 - val_acc: 0.9308\n",
            "Epoch 2/3\n",
            "582/582 [==============================] - ETA: 0s - loss: 0.1771 - acc: 0.9261\n",
            "Epoch 2: val_loss improved from 0.16973 to 0.16706, saving model to my_checkpoint_VGG.ckpt\n",
            "582/582 [==============================] - 120s 205ms/step - loss: 0.1771 - acc: 0.9261 - val_loss: 0.1671 - val_acc: 0.9278\n",
            "Epoch 3/3\n",
            "582/582 [==============================] - ETA: 0s - loss: 0.1562 - acc: 0.9359\n",
            "Epoch 3: val_loss improved from 0.16706 to 0.15818, saving model to my_checkpoint_VGG.ckpt\n",
            "582/582 [==============================] - 119s 204ms/step - loss: 0.1562 - acc: 0.9359 - val_loss: 0.1582 - val_acc: 0.9321\n"
          ]
        },
        {
          "output_type": "execute_result",
          "data": {
            "text/plain": [
              "<tensorflow.python.training.tracking.util.CheckpointLoadStatus at 0x7f3f582db250>"
            ]
          },
          "metadata": {},
          "execution_count": 14
        }
      ],
      "source": [
        "VGG_model.compile(optimizer='adam', loss='sparse_categorical_crossentropy', metrics=['acc'])\n",
        "checkpoint_path_VGG = \"my_checkpoint_VGG.ckpt\"\n",
        "checkpoint_VGG = ModelCheckpoint(filepath=checkpoint_path_VGG, \n",
        "                            save_weights_only=True, \n",
        "                            save_best_only=True, \n",
        "                            monitor='val_loss', \n",
        "                            verbose=1)\n",
        "VGG_model.fit(train_data,\n",
        "          validation_data=(valid_data),\n",
        "          epochs=3,\n",
        "          callbacks=[checkpoint_VGG],\n",
        "          )\n",
        "VGG_model.load_weights(checkpoint_path_VGG)"
      ]
    },
    {
      "cell_type": "code",
      "execution_count": 15,
      "metadata": {
        "id": "cink8VjfevSX",
        "colab": {
          "base_uri": "https://localhost:8080/"
        },
        "outputId": "b76cc623-1d25-462e-8efd-487c5efbb1be"
      },
      "outputs": [
        {
          "output_type": "stream",
          "name": "stdout",
          "text": [
            "146/146 - 24s - loss: 0.1582 - acc: 0.9321 - 24s/epoch - 161ms/step\n",
            "test loss: 0.158182, test accuracy: 93.207222\n"
          ]
        }
      ],
      "source": [
        "loss, acc = VGG_model.evaluate(valid_data, verbose=2)\n",
        "print(\"test loss: %f, test accuracy: %f\" %(loss, acc*100))"
      ]
    }
  ],
  "metadata": {
    "accelerator": "GPU",
    "colab": {
      "name": "cats_and_dogs.ipynb",
      "provenance": [],
      "collapsed_sections": [],
      "include_colab_link": true
    },
    "gpuClass": "standard",
    "kernelspec": {
      "display_name": "Python 3",
      "name": "python3"
    },
    "language_info": {
      "name": "python"
    }
  },
  "nbformat": 4,
  "nbformat_minor": 0
}