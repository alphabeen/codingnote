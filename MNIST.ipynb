{
  "nbformat": 4,
  "nbformat_minor": 0,
  "metadata": {
    "colab": {
      "name": "MNIST.ipynb",
      "provenance": [],
      "collapsed_sections": [],
      "include_colab_link": true
    },
    "kernelspec": {
      "name": "python3",
      "display_name": "Python 3"
    },
    "language_info": {
      "name": "python"
    },
    "accelerator": "GPU",
    "gpuClass": "standard"
  },
  "cells": [
    {
      "cell_type": "markdown",
      "metadata": {
        "id": "view-in-github",
        "colab_type": "text"
      },
      "source": [
        "<a href=\"https://colab.research.google.com/github/alphabeen/codingnote/blob/main/MNIST.ipynb\" target=\"_parent\"><img src=\"https://colab.research.google.com/assets/colab-badge.svg\" alt=\"Open In Colab\"/></a>"
      ]
    },
    {
      "cell_type": "markdown",
      "source": [
        "# MNIST"
      ],
      "metadata": {
        "id": "6BLoMWF6mlNj"
      }
    },
    {
      "cell_type": "code",
      "execution_count": null,
      "metadata": {
        "id": "sLK-9l_EdAf0"
      },
      "outputs": [],
      "source": [
        "import tensorflow as tf\n",
        "import numpy as np\n",
        "from tensorflow.keras.layers import Conv2D, MaxPooling2D, Flatten, Dropout, Dense, BatchNormalization\n",
        "from tensorflow.keras.models import Sequential\n",
        "from tensorflow.keras.callbacks import ModelCheckpoint"
      ]
    },
    {
      "cell_type": "markdown",
      "source": [
        "#Data Load"
      ],
      "metadata": {
        "id": "iqdC9FD6T36t"
      }
    },
    {
      "cell_type": "code",
      "source": [
        "(x_train, y_train), (x_test, y_test) = tf. keras.datasets.mnist.load_data()\n",
        "\n",
        "x_train, x_test = x_train / 255.0, x_test / 255.0\n",
        "\n",
        "x_valid = x_train[10000:]\n",
        "x_train = x_train[:10000]\n",
        "y_valid = y_train[10000:]\n",
        "y_train = y_train[:10000]"
      ],
      "metadata": {
        "colab": {
          "base_uri": "https://localhost:8080/"
        },
        "id": "MiOBQLs9d7EF",
        "outputId": "cb494c62-9a9b-46d5-940f-fa40beadda09"
      },
      "execution_count": null,
      "outputs": [
        {
          "output_type": "stream",
          "name": "stdout",
          "text": [
            "Downloading data from https://storage.googleapis.com/tensorflow/tf-keras-datasets/mnist.npz\n",
            "11493376/11490434 [==============================] - 0s 0us/step\n",
            "11501568/11490434 [==============================] - 0s 0us/step\n"
          ]
        }
      ]
    },
    {
      "cell_type": "markdown",
      "source": [
        "#Training"
      ],
      "metadata": {
        "id": "_PE5Y_cMT6La"
      }
    },
    {
      "cell_type": "code",
      "source": [
        "model = Sequential ([\n",
        "                     Flatten(input_shape = (28, 28)),\n",
        "                     Dense(1024, activation = 'relu'),\n",
        "                     Dense(512, activation = 'relu'),\n",
        "                     Dropout(0.25),\n",
        "                     Dense(256, activation = 'relu'),\n",
        "                     Dense(128, activation = 'relu'),\n",
        "                     Dense(64, activation = 'relu'),\n",
        "                     Dense(32, activation = 'relu'),\n",
        "                     Dense(10, activation = 'softmax'),\n",
        "\n",
        "])\n",
        "\n",
        "\n",
        "model.compile(optimizer = 'adam', loss = 'sparse_categorical_crossentropy',metrics=['acc'])\n",
        "\n",
        "checkpoint_path=\"my_check1.ckpt\"\n",
        "checkpoint=ModelCheckpoint(filepath=checkpoint_path,\n",
        "                            monitor='val_acc',\n",
        "                            verbose=1,\n",
        "                            save_best_only=True,\n",
        "                            save_weights_only=True\n",
        "                            )\n",
        "\n",
        "\n",
        "history=model.fit(x_train,y_train,\n",
        "                  validation_data=(x_valid,y_valid),\n",
        "                  epochs=50,\n",
        "                  callbacks=[checkpoint],\n",
        "                  batch_size=32\n",
        "                  )\n",
        "\n",
        "\n",
        "model.load_weights(checkpoint_path)"
      ],
      "metadata": {
        "colab": {
          "base_uri": "https://localhost:8080/"
        },
        "id": "Se1TibHAU5A4",
        "outputId": "61e150d1-6456-43b4-daf1-427e876e8791"
      },
      "execution_count": null,
      "outputs": [
        {
          "output_type": "stream",
          "name": "stdout",
          "text": [
            "Epoch 1/50\n",
            "313/313 [==============================] - ETA: 0s - loss: 0.5152 - acc: 0.8409\n",
            "Epoch 1: val_acc improved from -inf to 0.92266, saving model to my_check1.ckpt\n",
            "313/313 [==============================] - 7s 21ms/step - loss: 0.5152 - acc: 0.8409 - val_loss: 0.2677 - val_acc: 0.9227\n",
            "Epoch 2/50\n",
            "302/313 [===========================>..] - ETA: 0s - loss: 0.2042 - acc: 0.9418\n",
            "Epoch 2: val_acc improved from 0.92266 to 0.92806, saving model to my_check1.ckpt\n",
            "313/313 [==============================] - 6s 20ms/step - loss: 0.2021 - acc: 0.9425 - val_loss: 0.2655 - val_acc: 0.9281\n",
            "Epoch 3/50\n",
            "309/313 [============================>.] - ETA: 0s - loss: 0.1360 - acc: 0.9609\n",
            "Epoch 3: val_acc improved from 0.92806 to 0.94218, saving model to my_check1.ckpt\n",
            "313/313 [==============================] - 6s 20ms/step - loss: 0.1360 - acc: 0.9609 - val_loss: 0.2159 - val_acc: 0.9422\n",
            "Epoch 4/50\n",
            "311/313 [============================>.] - ETA: 0s - loss: 0.1046 - acc: 0.9690\n",
            "Epoch 4: val_acc improved from 0.94218 to 0.94512, saving model to my_check1.ckpt\n",
            "313/313 [==============================] - 5s 15ms/step - loss: 0.1043 - acc: 0.9690 - val_loss: 0.2037 - val_acc: 0.9451\n",
            "Epoch 5/50\n",
            "309/313 [============================>.] - ETA: 0s - loss: 0.0831 - acc: 0.9758\n",
            "Epoch 5: val_acc did not improve from 0.94512\n",
            "313/313 [==============================] - 7s 22ms/step - loss: 0.0829 - acc: 0.9760 - val_loss: 0.2513 - val_acc: 0.9341\n",
            "Epoch 6/50\n",
            "305/313 [============================>.] - ETA: 0s - loss: 0.0713 - acc: 0.9802\n",
            "Epoch 6: val_acc improved from 0.94512 to 0.95598, saving model to my_check1.ckpt\n",
            "313/313 [==============================] - 6s 20ms/step - loss: 0.0712 - acc: 0.9802 - val_loss: 0.1818 - val_acc: 0.9560\n",
            "Epoch 7/50\n",
            "306/313 [============================>.] - ETA: 0s - loss: 0.0574 - acc: 0.9833\n",
            "Epoch 7: val_acc did not improve from 0.95598\n",
            "313/313 [==============================] - 5s 15ms/step - loss: 0.0578 - acc: 0.9834 - val_loss: 0.2112 - val_acc: 0.9516\n",
            "Epoch 8/50\n",
            "303/313 [============================>.] - ETA: 0s - loss: 0.0462 - acc: 0.9862\n",
            "Epoch 8: val_acc did not improve from 0.95598\n",
            "313/313 [==============================] - 5s 15ms/step - loss: 0.0467 - acc: 0.9860 - val_loss: 0.2193 - val_acc: 0.9522\n",
            "Epoch 9/50\n",
            "311/313 [============================>.] - ETA: 0s - loss: 0.0456 - acc: 0.9876\n",
            "Epoch 9: val_acc did not improve from 0.95598\n",
            "313/313 [==============================] - 5s 15ms/step - loss: 0.0454 - acc: 0.9877 - val_loss: 0.2609 - val_acc: 0.9405\n",
            "Epoch 10/50\n",
            "306/313 [============================>.] - ETA: 0s - loss: 0.0463 - acc: 0.9877\n",
            "Epoch 10: val_acc did not improve from 0.95598\n",
            "313/313 [==============================] - 6s 20ms/step - loss: 0.0455 - acc: 0.9879 - val_loss: 0.2278 - val_acc: 0.9533\n",
            "Epoch 11/50\n",
            "301/313 [===========================>..] - ETA: 0s - loss: 0.0431 - acc: 0.9896\n",
            "Epoch 11: val_acc did not improve from 0.95598\n",
            "313/313 [==============================] - 6s 20ms/step - loss: 0.0441 - acc: 0.9894 - val_loss: 0.2414 - val_acc: 0.9507\n",
            "Epoch 12/50\n",
            "310/313 [============================>.] - ETA: 0s - loss: 0.0349 - acc: 0.9896\n",
            "Epoch 12: val_acc did not improve from 0.95598\n",
            "313/313 [==============================] - 6s 20ms/step - loss: 0.0350 - acc: 0.9895 - val_loss: 0.2586 - val_acc: 0.9497\n",
            "Epoch 13/50\n",
            "300/313 [===========================>..] - ETA: 0s - loss: 0.0435 - acc: 0.9885\n",
            "Epoch 13: val_acc did not improve from 0.95598\n",
            "313/313 [==============================] - 5s 15ms/step - loss: 0.0443 - acc: 0.9885 - val_loss: 0.2133 - val_acc: 0.9551\n",
            "Epoch 14/50\n",
            "311/313 [============================>.] - ETA: 0s - loss: 0.0320 - acc: 0.9914\n",
            "Epoch 14: val_acc improved from 0.95598 to 0.95716, saving model to my_check1.ckpt\n",
            "313/313 [==============================] - 5s 15ms/step - loss: 0.0319 - acc: 0.9914 - val_loss: 0.2239 - val_acc: 0.9572\n",
            "Epoch 15/50\n",
            "306/313 [============================>.] - ETA: 0s - loss: 0.0289 - acc: 0.9925\n",
            "Epoch 15: val_acc did not improve from 0.95716\n",
            "313/313 [==============================] - 5s 15ms/step - loss: 0.0288 - acc: 0.9925 - val_loss: 0.2290 - val_acc: 0.9564\n",
            "Epoch 16/50\n",
            "306/313 [============================>.] - ETA: 0s - loss: 0.0189 - acc: 0.9944\n",
            "Epoch 16: val_acc did not improve from 0.95716\n",
            "313/313 [==============================] - 5s 15ms/step - loss: 0.0192 - acc: 0.9943 - val_loss: 0.2904 - val_acc: 0.9551\n",
            "Epoch 17/50\n",
            "309/313 [============================>.] - ETA: 0s - loss: 0.0237 - acc: 0.9943\n",
            "Epoch 17: val_acc did not improve from 0.95716\n",
            "313/313 [==============================] - 5s 15ms/step - loss: 0.0238 - acc: 0.9943 - val_loss: 0.2783 - val_acc: 0.9546\n",
            "Epoch 18/50\n",
            "304/313 [============================>.] - ETA: 0s - loss: 0.0318 - acc: 0.9933\n",
            "Epoch 18: val_acc did not improve from 0.95716\n",
            "313/313 [==============================] - 6s 20ms/step - loss: 0.0332 - acc: 0.9933 - val_loss: 0.2664 - val_acc: 0.9551\n",
            "Epoch 19/50\n",
            "313/313 [==============================] - ETA: 0s - loss: 0.0325 - acc: 0.9927\n",
            "Epoch 19: val_acc improved from 0.95716 to 0.95848, saving model to my_check1.ckpt\n",
            "313/313 [==============================] - 5s 15ms/step - loss: 0.0325 - acc: 0.9927 - val_loss: 0.2419 - val_acc: 0.9585\n",
            "Epoch 20/50\n",
            "306/313 [============================>.] - ETA: 0s - loss: 0.0231 - acc: 0.9949\n",
            "Epoch 20: val_acc did not improve from 0.95848\n",
            "313/313 [==============================] - 5s 15ms/step - loss: 0.0230 - acc: 0.9949 - val_loss: 0.2522 - val_acc: 0.9584\n",
            "Epoch 21/50\n",
            "313/313 [==============================] - ETA: 0s - loss: 0.0278 - acc: 0.9937\n",
            "Epoch 21: val_acc did not improve from 0.95848\n",
            "313/313 [==============================] - 6s 20ms/step - loss: 0.0278 - acc: 0.9937 - val_loss: 0.3806 - val_acc: 0.9372\n",
            "Epoch 22/50\n",
            "310/313 [============================>.] - ETA: 0s - loss: 0.0311 - acc: 0.9930\n",
            "Epoch 22: val_acc did not improve from 0.95848\n",
            "313/313 [==============================] - 5s 15ms/step - loss: 0.0309 - acc: 0.9931 - val_loss: 0.2775 - val_acc: 0.9521\n",
            "Epoch 23/50\n",
            "305/313 [============================>.] - ETA: 0s - loss: 0.0132 - acc: 0.9972\n",
            "Epoch 23: val_acc did not improve from 0.95848\n",
            "313/313 [==============================] - 6s 20ms/step - loss: 0.0131 - acc: 0.9972 - val_loss: 0.2971 - val_acc: 0.9581\n",
            "Epoch 24/50\n",
            "302/313 [===========================>..] - ETA: 0s - loss: 0.0103 - acc: 0.9971\n",
            "Epoch 24: val_acc improved from 0.95848 to 0.96288, saving model to my_check1.ckpt\n",
            "313/313 [==============================] - 5s 15ms/step - loss: 0.0100 - acc: 0.9972 - val_loss: 0.2791 - val_acc: 0.9629\n",
            "Epoch 25/50\n",
            "300/313 [===========================>..] - ETA: 0s - loss: 0.0294 - acc: 0.9939\n",
            "Epoch 25: val_acc did not improve from 0.96288\n",
            "313/313 [==============================] - 6s 20ms/step - loss: 0.0297 - acc: 0.9939 - val_loss: 0.2538 - val_acc: 0.9609\n",
            "Epoch 26/50\n",
            "301/313 [===========================>..] - ETA: 0s - loss: 0.0125 - acc: 0.9967\n",
            "Epoch 26: val_acc did not improve from 0.96288\n",
            "313/313 [==============================] - 6s 20ms/step - loss: 0.0121 - acc: 0.9968 - val_loss: 0.2876 - val_acc: 0.9621\n",
            "Epoch 27/50\n",
            "303/313 [============================>.] - ETA: 0s - loss: 0.0190 - acc: 0.9958\n",
            "Epoch 27: val_acc did not improve from 0.96288\n",
            "313/313 [==============================] - 6s 20ms/step - loss: 0.0185 - acc: 0.9959 - val_loss: 0.3575 - val_acc: 0.9563\n",
            "Epoch 28/50\n",
            "300/313 [===========================>..] - ETA: 0s - loss: 0.0304 - acc: 0.9936\n",
            "Epoch 28: val_acc did not improve from 0.96288\n",
            "313/313 [==============================] - 5s 15ms/step - loss: 0.0294 - acc: 0.9939 - val_loss: 0.2277 - val_acc: 0.9612\n",
            "Epoch 29/50\n",
            "308/313 [============================>.] - ETA: 0s - loss: 0.0178 - acc: 0.9971\n",
            "Epoch 29: val_acc did not improve from 0.96288\n",
            "313/313 [==============================] - 5s 15ms/step - loss: 0.0176 - acc: 0.9971 - val_loss: 0.2771 - val_acc: 0.9620\n",
            "Epoch 30/50\n",
            "310/313 [============================>.] - ETA: 0s - loss: 0.0151 - acc: 0.9966\n",
            "Epoch 30: val_acc did not improve from 0.96288\n",
            "313/313 [==============================] - 6s 20ms/step - loss: 0.0150 - acc: 0.9966 - val_loss: 0.3173 - val_acc: 0.9561\n",
            "Epoch 31/50\n",
            "300/313 [===========================>..] - ETA: 0s - loss: 0.0202 - acc: 0.9946\n",
            "Epoch 31: val_acc improved from 0.96288 to 0.96290, saving model to my_check1.ckpt\n",
            "313/313 [==============================] - 5s 15ms/step - loss: 0.0196 - acc: 0.9947 - val_loss: 0.2548 - val_acc: 0.9629\n",
            "Epoch 32/50\n",
            "303/313 [============================>.] - ETA: 0s - loss: 0.0027 - acc: 0.9991\n",
            "Epoch 32: val_acc did not improve from 0.96290\n",
            "313/313 [==============================] - 5s 15ms/step - loss: 0.0029 - acc: 0.9990 - val_loss: 0.3016 - val_acc: 0.9619\n",
            "Epoch 33/50\n",
            "303/313 [============================>.] - ETA: 0s - loss: 0.0142 - acc: 0.9970\n",
            "Epoch 33: val_acc did not improve from 0.96290\n",
            "313/313 [==============================] - 6s 20ms/step - loss: 0.0138 - acc: 0.9971 - val_loss: 0.3088 - val_acc: 0.9617\n",
            "Epoch 34/50\n",
            "310/313 [============================>.] - ETA: 0s - loss: 0.0194 - acc: 0.9958\n",
            "Epoch 34: val_acc did not improve from 0.96290\n",
            "313/313 [==============================] - 5s 15ms/step - loss: 0.0198 - acc: 0.9956 - val_loss: 0.2797 - val_acc: 0.9587\n",
            "Epoch 35/50\n",
            "304/313 [============================>.] - ETA: 0s - loss: 0.0252 - acc: 0.9955\n",
            "Epoch 35: val_acc did not improve from 0.96290\n",
            "313/313 [==============================] - 5s 15ms/step - loss: 0.0251 - acc: 0.9954 - val_loss: 0.3038 - val_acc: 0.9577\n",
            "Epoch 36/50\n",
            "303/313 [============================>.] - ETA: 0s - loss: 0.0206 - acc: 0.9961\n",
            "Epoch 36: val_acc did not improve from 0.96290\n",
            "313/313 [==============================] - 6s 20ms/step - loss: 0.0209 - acc: 0.9960 - val_loss: 0.2665 - val_acc: 0.9554\n",
            "Epoch 37/50\n",
            "308/313 [============================>.] - ETA: 0s - loss: 0.0056 - acc: 0.9986\n",
            "Epoch 37: val_acc did not improve from 0.96290\n",
            "313/313 [==============================] - 6s 20ms/step - loss: 0.0055 - acc: 0.9986 - val_loss: 0.3573 - val_acc: 0.9563\n",
            "Epoch 38/50\n",
            "304/313 [============================>.] - ETA: 0s - loss: 0.0075 - acc: 0.9985\n",
            "Epoch 38: val_acc did not improve from 0.96290\n",
            "313/313 [==============================] - 5s 15ms/step - loss: 0.0073 - acc: 0.9985 - val_loss: 0.3057 - val_acc: 0.9616\n",
            "Epoch 39/50\n",
            "305/313 [============================>.] - ETA: 0s - loss: 0.0244 - acc: 0.9956\n",
            "Epoch 39: val_acc did not improve from 0.96290\n",
            "313/313 [==============================] - 5s 15ms/step - loss: 0.0261 - acc: 0.9950 - val_loss: 0.3015 - val_acc: 0.9546\n",
            "Epoch 40/50\n",
            "302/313 [===========================>..] - ETA: 0s - loss: 0.0230 - acc: 0.9952\n",
            "Epoch 40: val_acc improved from 0.96290 to 0.96424, saving model to my_check1.ckpt\n",
            "313/313 [==============================] - 6s 20ms/step - loss: 0.0226 - acc: 0.9953 - val_loss: 0.2879 - val_acc: 0.9642\n",
            "Epoch 41/50\n",
            "313/313 [==============================] - ETA: 0s - loss: 0.0223 - acc: 0.9944\n",
            "Epoch 41: val_acc did not improve from 0.96424\n",
            "313/313 [==============================] - 6s 20ms/step - loss: 0.0223 - acc: 0.9944 - val_loss: 0.3384 - val_acc: 0.9612\n",
            "Epoch 42/50\n",
            "302/313 [===========================>..] - ETA: 0s - loss: 0.0121 - acc: 0.9971\n",
            "Epoch 42: val_acc did not improve from 0.96424\n",
            "313/313 [==============================] - 6s 20ms/step - loss: 0.0130 - acc: 0.9968 - val_loss: 0.3760 - val_acc: 0.9544\n",
            "Epoch 43/50\n",
            "302/313 [===========================>..] - ETA: 0s - loss: 0.0219 - acc: 0.9950\n",
            "Epoch 43: val_acc did not improve from 0.96424\n",
            "313/313 [==============================] - 6s 20ms/step - loss: 0.0214 - acc: 0.9952 - val_loss: 0.3096 - val_acc: 0.9637\n",
            "Epoch 44/50\n",
            "305/313 [============================>.] - ETA: 0s - loss: 0.0075 - acc: 0.9987\n",
            "Epoch 44: val_acc improved from 0.96424 to 0.96590, saving model to my_check1.ckpt\n",
            "313/313 [==============================] - 5s 15ms/step - loss: 0.0075 - acc: 0.9986 - val_loss: 0.3176 - val_acc: 0.9659\n",
            "Epoch 45/50\n",
            "312/313 [============================>.] - ETA: 0s - loss: 4.7622e-04 - acc: 0.9998\n",
            "Epoch 45: val_acc did not improve from 0.96590\n",
            "313/313 [==============================] - 6s 20ms/step - loss: 4.7546e-04 - acc: 0.9998 - val_loss: 0.3493 - val_acc: 0.9651\n",
            "Epoch 46/50\n",
            "305/313 [============================>.] - ETA: 0s - loss: 0.0069 - acc: 0.9989\n",
            "Epoch 46: val_acc did not improve from 0.96590\n",
            "313/313 [==============================] - 6s 20ms/step - loss: 0.0068 - acc: 0.9989 - val_loss: 0.3542 - val_acc: 0.9652\n",
            "Epoch 47/50\n",
            "304/313 [============================>.] - ETA: 0s - loss: 2.2369e-04 - acc: 0.9999\n",
            "Epoch 47: val_acc improved from 0.96590 to 0.96646, saving model to my_check1.ckpt\n",
            "313/313 [==============================] - 5s 15ms/step - loss: 2.1772e-04 - acc: 0.9999 - val_loss: 0.3804 - val_acc: 0.9665\n",
            "Epoch 48/50\n",
            "304/313 [============================>.] - ETA: 0s - loss: 3.1596e-05 - acc: 1.0000\n",
            "Epoch 48: val_acc improved from 0.96646 to 0.96662, saving model to my_check1.ckpt\n",
            "313/313 [==============================] - 6s 20ms/step - loss: 3.0855e-05 - acc: 1.0000 - val_loss: 0.3855 - val_acc: 0.9666\n",
            "Epoch 49/50\n",
            "303/313 [============================>.] - ETA: 0s - loss: 0.0042 - acc: 0.9997\n",
            "Epoch 49: val_acc did not improve from 0.96662\n",
            "313/313 [==============================] - 6s 20ms/step - loss: 0.0042 - acc: 0.9997 - val_loss: 0.4259 - val_acc: 0.9532\n",
            "Epoch 50/50\n",
            "303/313 [============================>.] - ETA: 0s - loss: 0.0390 - acc: 0.9937\n",
            "Epoch 50: val_acc did not improve from 0.96662\n",
            "313/313 [==============================] - 5s 15ms/step - loss: 0.0387 - acc: 0.9936 - val_loss: 0.3499 - val_acc: 0.9558\n"
          ]
        },
        {
          "output_type": "execute_result",
          "data": {
            "text/plain": [
              "<tensorflow.python.training.tracking.util.CheckpointLoadStatus at 0x7f601158f450>"
            ]
          },
          "metadata": {},
          "execution_count": 26
        }
      ]
    },
    {
      "cell_type": "markdown",
      "source": [
        "#Evaluatation"
      ],
      "metadata": {
        "id": "PSNJVrqRTsYu"
      }
    },
    {
      "cell_type": "code",
      "source": [
        "loss, acc = model.evaluate(x_test, y_test, verbose=2)\n",
        "print(\"test loss: %f, test accuracy: %f\" %(loss, acc*100))"
      ],
      "metadata": {
        "colab": {
          "base_uri": "https://localhost:8080/"
        },
        "id": "gpNuMVXKU5VZ",
        "outputId": "fdabfc6a-a7d5-4a5a-91dd-91ab53f68ddd"
      },
      "execution_count": null,
      "outputs": [
        {
          "output_type": "stream",
          "name": "stdout",
          "text": [
            "313/313 - 1s - loss: 0.3667 - acc: 0.9677 - 736ms/epoch - 2ms/step\n",
            "test loss: 0.366684, test accuracy: 96.770000\n"
          ]
        }
      ]
    }
  ]
}